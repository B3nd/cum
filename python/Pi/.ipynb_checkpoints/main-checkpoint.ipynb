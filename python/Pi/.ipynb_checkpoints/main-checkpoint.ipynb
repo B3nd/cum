{
 "cells": [
  {
   "cell_type": "code",
   "execution_count": 72,
   "metadata": {},
   "outputs": [],
   "source": [
    "%matplotlib inline\n",
    "import matplotlib.pyplot as plt\n",
    "#plt.style.use('seaborn-whitegrid')\n",
    "import numpy as np\n",
    "import random\n"
   ]
  },
  {
   "cell_type": "code",
   "execution_count": 69,
   "metadata": {},
   "outputs": [],
   "source": [
    "number_total = 0\n",
    "number_in_circle = 0"
   ]
  },
  {
   "cell_type": "code",
   "execution_count": null,
   "metadata": {
    "scrolled": true
   },
   "outputs": [],
   "source": [
    "fig = plt.figure()\n",
    "ax = plt.gca()\n",
    "ax.cla()\n",
    "ax.set_xlim((-0.5, 0.5))\n",
    "ax.set_ylim((-0.5, 0.5))\n",
    "x = np.linspace(-1, 1)\n",
    "c = plt.Circle((0, 0), 0.5, color='black', fill=False)\n",
    "ax.add_artist(c)\n",
    "\n",
    "number = 20000\n",
    "for i in range(number):\n",
    "    x = random.uniform(-0.5, 0.5)\n",
    "    y = random.uniform(-0.5, 0.5)\n",
    "    radius  = abs(x)**2 + abs(y)**2\n",
    "    if radius <= 0.25:\n",
    "        ax.add_artist(plt.Circle((x, y), 0.003, color='red'))\n",
    "        number_in_circle += 1\n",
    "    else:\n",
    "        ax.add_artist(plt.Circle((x, y), 0.003, color='blue'))\n",
    "    number_total +=1\n",
    "    \n",
    "plt.plot([], [], ' ', label=\"Pi is \" + str(4 * number_in_circle / number_total))\n",
    "plt.legend(frameon=True, loc='lower center', ncol=1)"
   ]
  }
 ],
 "metadata": {
  "kernelspec": {
   "display_name": "Python 3",
   "language": "python",
   "name": "python3"
  },
  "language_info": {
   "codemirror_mode": {
    "name": "ipython",
    "version": 3
   },
   "file_extension": ".py",
   "mimetype": "text/x-python",
   "name": "python",
   "nbconvert_exporter": "python",
   "pygments_lexer": "ipython3",
   "version": "3.7.6"
  }
 },
 "nbformat": 4,
 "nbformat_minor": 4
}
